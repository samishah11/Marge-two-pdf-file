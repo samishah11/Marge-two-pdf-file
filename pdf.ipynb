{
 "cells": [
  {
   "cell_type": "code",
   "execution_count": 4,
   "metadata": {},
   "outputs": [],
   "source": [
    "import PyPDF2\n",
    "\n",
    "def merge_pdf_files(file1, file2, output_file):\n",
    "    merger = PyPDF2.PdfMerger()\n",
    "    \n",
    "    # Open the first PDF file in binary mode\n",
    "    with open(file1, 'rb') as f:\n",
    "        merger.append(f)\n",
    "    \n",
    "    # Open the second PDF file in binary mode\n",
    "    with open(file2, 'rb') as f:\n",
    "        merger.append(f)\n",
    "    \n",
    "    # Write the merged PDF to the output file\n",
    "    with open(output_file, 'wb') as f:\n",
    "        merger.write(f)\n",
    "\n",
    "# Specify the paths of the input PDF files\n",
    "pdf_file1 = '1.pdf'\n",
    "pdf_file2 = '1.pdf'\n",
    "\n",
    "# Specify the output file path for the merged PDF\n",
    "output_pdf_file = '3.pdf'\n",
    "\n",
    "# Call the merge_pdf_files function\n",
    "merge_pdf_files(pdf_file1, pdf_file2, output_pdf_file)\n"
   ]
  }
 ],
 "metadata": {
  "kernelspec": {
   "display_name": "base",
   "language": "python",
   "name": "python3"
  },
  "language_info": {
   "codemirror_mode": {
    "name": "ipython",
    "version": 3
   },
   "file_extension": ".py",
   "mimetype": "text/x-python",
   "name": "python",
   "nbconvert_exporter": "python",
   "pygments_lexer": "ipython3",
   "version": "3.10.9"
  },
  "orig_nbformat": 4
 },
 "nbformat": 4,
 "nbformat_minor": 2
}
